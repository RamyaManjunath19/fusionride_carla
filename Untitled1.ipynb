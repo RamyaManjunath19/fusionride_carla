{
 "cells": [
  {
   "cell_type": "code",
   "execution_count": 14,
   "id": "e51e5d0a-65da-4aa4-9687-dc7f5c87e2c9",
   "metadata": {},
   "outputs": [],
   "source": [
    "import carla\n",
    "import math\n",
    "import random\n",
    "import time"
   ]
  },
  {
   "cell_type": "code",
   "execution_count": 15,
   "id": "b7ef720f-9f19-4292-ba5c-d69a7620620f",
   "metadata": {},
   "outputs": [],
   "source": [
    "client = carla.Client('localhost', 2000)\n",
    "world = client.get_world()"
   ]
  },
  {
   "cell_type": "code",
   "execution_count": 16,
   "id": "b8cb6136-f62b-4e97-a7c9-6b0c6d4b1482",
   "metadata": {},
   "outputs": [],
   "source": [
    "bp_lib = world.get_blueprint_library()\n",
    "spawn_points = world.get_map().get_spawn_points()"
   ]
  },
  {
   "cell_type": "code",
   "execution_count": 17,
   "id": "8912052f-c62c-4a7e-a3ca-6d79c278b5bb",
   "metadata": {},
   "outputs": [],
   "source": [
    "vehicle_bp = bp_lib.find('vehicle.lincoln.mkz_2020')\n",
    "vehicle = world.try_spawn_actor(vehicle_bp, random.choice(spawn_points))"
   ]
  },
  {
   "cell_type": "code",
   "execution_count": 18,
   "id": "2b1e03bc-29e4-4905-9923-4a5707ebee33",
   "metadata": {},
   "outputs": [],
   "source": [
    "spectator = world.get_spectator()\n",
    "transform = carla.Transform(vehicle.get_transform().transform(carla.Location(x=-4,z=2.5)), vehicle.get_transform().rotation)\n",
    "spectator.set_transform(transform)"
   ]
  },
  {
   "cell_type": "code",
   "execution_count": 19,
   "id": "a44d0155-1b97-48c3-aaef-9a54b2347fa4",
   "metadata": {},
   "outputs": [],
   "source": [
    "for i in range(30):\n",
    "    vehicle_bp = random.choice(bp_lib.filter('vehicle'))\n",
    "    npc = world.try_spawn_actor(vehicle_bp, random.choice(spawn_points))"
   ]
  },
  {
   "cell_type": "code",
   "execution_count": 20,
   "id": "3c3a8d43-8019-41cc-b95b-d41b39e8b2c7",
   "metadata": {},
   "outputs": [],
   "source": [
    "for v in world.get_actors().filter('*vehicle*'):\n",
    "    v.set_autopilot(True)"
   ]
  },
  {
   "cell_type": "code",
   "execution_count": 21,
   "id": "d19765b8-2c80-48e4-b343-d73eabff542c",
   "metadata": {},
   "outputs": [],
   "source": [
    "camera_bp = bp_lib.find('sensor.camera.rgb')\n",
    "\n",
    "camera_init_trans = carla.Transform(carla.Location(z=2))\n",
    "\n",
    "camera = world.spawn_actor(camera_bp, camera_init_trans, attach_to=vehicle)"
   ]
  },
  {
   "cell_type": "code",
   "execution_count": 22,
   "id": "3a75b29c-0be4-4380-ba42-f35981db4a6d",
   "metadata": {},
   "outputs": [],
   "source": [
    "camera.listen(lambda image: image.save_to_disk('out/%06d.png' % image.frame))"
   ]
  },
  {
   "cell_type": "code",
   "execution_count": 24,
   "id": "bb5d7eb3-dee9-4c19-af86-86a82aad3011",
   "metadata": {},
   "outputs": [],
   "source": [
    "camera.stop()"
   ]
  },
  {
   "cell_type": "code",
   "execution_count": null,
   "id": "5e38fed7-e63c-4bef-bdbb-d805715314a0",
   "metadata": {},
   "outputs": [],
   "source": []
  },
  {
   "cell_type": "code",
   "execution_count": null,
   "id": "5bdf2064-400c-4d9b-afd4-db473f3b62fd",
   "metadata": {},
   "outputs": [],
   "source": []
  }
 ],
 "metadata": {
  "kernelspec": {
   "display_name": "Python 3.7.9 64-bit",
   "language": "python",
   "name": "python3"
  },
  "language_info": {
   "codemirror_mode": {
    "name": "ipython",
    "version": 3
   },
   "file_extension": ".py",
   "mimetype": "text/x-python",
   "name": "python",
   "nbconvert_exporter": "python",
   "pygments_lexer": "ipython3",
   "version": "3.7.9"
  },
  "vscode": {
   "interpreter": {
    "hash": "c273374f78f950d8b4bfbabda8f7850e2b97eab7dbb2451dbae00874cb487475"
   }
  }
 },
 "nbformat": 4,
 "nbformat_minor": 5
}
